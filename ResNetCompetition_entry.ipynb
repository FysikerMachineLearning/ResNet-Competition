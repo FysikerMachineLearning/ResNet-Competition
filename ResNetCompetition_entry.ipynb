{
 "cells": [
  {
   "cell_type": "markdown",
   "metadata": {},
   "source": [
    "\n",
    "# ResNet-Competition\n",
    "\n",
    "__Author:\n",
    "Viktor Karlsson [viktor2karlsson@gmail.com](mailto:viktor2karlsson@gmail.com)__"
   ]
  },
  {
   "cell_type": "code",
   "execution_count": 2,
   "metadata": {
    "scrolled": false
   },
   "outputs": [],
   "source": [
    "import matplotlib.pyplot as plt\n",
    "import numpy as np\n",
    "\n",
    "from sklearn.model_selection import train_test_split\n",
    "\n",
    "from keras.models import Model, Sequential\n",
    "from keras.datasets import mnist\n",
    "from keras.layers import add as keras_add\n",
    "from keras.layers import Dense, Input, Activation\n",
    "from keras.initializers import RandomNormal\n",
    "from keras.regularizers import l1, l2\n",
    "from keras.utils import to_categorical\n",
    "from keras.callbacks import EarlyStopping\n",
    "\n",
    "from keras.wrappers.scikit_learn import KerasClassifier\n",
    "from sklearn.model_selection import GridSearchCV\n",
    "\n",
    "# load (downloaded if needed) the MNIST dataset\n",
    "(X_train_all, Y_train_all), (X_test, Y_test) = mnist.load_data()"
   ]
  },
  {
   "cell_type": "markdown",
   "metadata": {},
   "source": [
    "## Data splitting and preprocessing"
   ]
  },
  {
   "cell_type": "code",
   "execution_count": 3,
   "metadata": {
    "scrolled": false
   },
   "outputs": [
    {
     "name": "stdout",
     "output_type": "stream",
     "text": [
      "Shape of X_train is: (60000, 28, 28)\n",
      "Shape of Y_train is: (60000,)\n",
      "\n",
      "Reshaping training data into vector...\n",
      "Shape of X_train is now: (60000, 784)\n",
      "\n",
      "Transforming training labels into one-hot encodings...\n",
      "Shape of Y_train is now: (60000, 10)\n",
      "\n",
      "Using 55000 for training and 5000 for validation.\n",
      "Using 10000 for testing\n"
     ]
    }
   ],
   "source": [
    "print(f'Shape of X_train is: {X_train_all.shape}')\n",
    "print(f'Shape of Y_train is: {Y_train_all.shape}\\n')\n",
    "\n",
    "print('Reshaping training data into vector...')\n",
    "X_train_all = X_train_all.reshape(X_train_all.shape[0], np.prod(X_train_all.shape[1:]))\n",
    "print(f'Shape of X_train is now: {X_train_all.shape}\\n')\n",
    "\n",
    "print('Transforming training labels into one-hot encodings...')\n",
    "Y_train_all = to_categorical(Y_train_all)\n",
    "print(f'Shape of Y_train is now: {Y_train_all.shape}\\n')\n",
    "\n",
    "X_train, X_val, Y_train, Y_val = train_test_split(X_train_all, Y_train_all, test_size=5000)\n",
    "print(f'Using {len(X_train)} for training and {len(X_val)} for validation.')\n",
    "print(f'Using {len(X_test)} for testing')\n"
   ]
  },
  {
   "cell_type": "markdown",
   "metadata": {},
   "source": [
    "# MLP\n",
    "Defining functions that will be used for training MLP's"
   ]
  },
  {
   "cell_type": "code",
   "execution_count": 19,
   "metadata": {
    "scrolled": false
   },
   "outputs": [],
   "source": [
    "ES = EarlyStopping(monitor='val_loss', min_delta=0, patience=5, verbose=0, mode='auto', baseline=None, restore_best_weights=True)\n",
    "\n",
    "def custom_dense_mlp(dim, is_input_layer=False, input_dim=784, activation='relu', seed=1337):\n",
    "    \n",
    "    '''Function for creating a common layers in the MLP used in this notetbook'''\n",
    "    \n",
    "    if is_input_layer:    \n",
    "        return Dense(dim, \n",
    "                     input_dim=input_dim, \n",
    "                     activation=activation, \n",
    "                     kernel_initializer=RandomNormal(mean=0.0, stddev=0.05, seed=seed), \n",
    "                     bias_initializer='zeros', \n",
    "                     kernel_regularizer=l2(0.01)\n",
    "                    )\n",
    "    else:\n",
    "        return Dense(dim,  \n",
    "                     activation=activation, \n",
    "                     kernel_initializer=RandomNormal(mean=0.0, stddev=0.05, seed=seed), \n",
    "                     bias_initializer='zeros', \n",
    "                     kernel_regularizer=l2(0.01)\n",
    "                    )        \n",
    "#end def\n",
    "\n",
    "def create_mlp(dims, activation='relu', input_dim=784, output_dim=10):\n",
    "    \n",
    "    '''\n",
    "    Function for stacking together multiple common_layers into a list \n",
    "    which can later be used in a keras Sequential model.\n",
    "    '''\n",
    "    \n",
    "    layers = list()\n",
    "    \n",
    "    #input layer\n",
    "    layers.append(custom_dense_mlp(dims[0], is_input_layer=True))\n",
    "    \n",
    "    dims = dims[1:]\n",
    "    \n",
    "    #hidden layers\n",
    "    for dim in dims:\n",
    "        layers.append(custom_dense_mlp(dim))\n",
    "    #end for\n",
    "    \n",
    "    #output layer\n",
    "    layers.append(custom_dense_mlp(output_dim, activation='softmax'))\n",
    "    \n",
    "    model = Sequential(layers)\n",
    "\n",
    "    return model\n",
    "\n",
    "#end def\n",
    "\n",
    "def train_mlp(model, X_train, Y_train):\n",
    "    ES = EarlyStopping(monitor='val_loss', min_delta=0, patience=5, verbose=0, mode='auto', baseline=None, restore_best_weights=True)\n",
    "    model.compile(loss='categorical_crossentropy', optimizer='adam', metrics=['acc'])\n",
    "    model.summary()\n",
    "    history = model.fit(X_train, Y_train, epochs=200, callbacks=[ES], batch_size=256, validation_data=(X_val, Y_val), verbose=0)\n",
    "\n",
    "    return history\n",
    "\n",
    "def history_plot(history, X_val, Y_val):\n",
    "    \n",
    "    '''\n",
    "    Function for plotting validation and training accuracy and loss. \n",
    "    '''\n",
    "    \n",
    "    # summarize history for accuracy\n",
    "    plt.plot(history.history['acc'])\n",
    "    plt.plot(history.history['val_acc'])\n",
    "    val_acc = history.model.evaluate(X_val, Y_val)[1]\n",
    "    plt.title('model accuracy - {}'.format(round(val_acc, 5)))\n",
    "    plt.ylabel('accuracy')\n",
    "    plt.xlabel('epoch')\n",
    "    plt.legend(['train', 'val'], loc='upper left')\n",
    "    plt.show()\n",
    "    # summarize history for loss\n",
    "    plt.plot(history.history['loss'])\n",
    "    plt.plot(history.history['val_loss'])\n",
    "    plt.title('model loss')\n",
    "    plt.ylabel('loss')\n",
    "    plt.xlabel('epoch')\n",
    "    plt.legend(['train', 'val'], loc='upper left')\n",
    "    plt.show()\n",
    "    return\n",
    "#end def \n"
   ]
  },
  {
   "cell_type": "markdown",
   "metadata": {},
   "source": [
    "## Training MLP's\n",
    "To create a good environment for testing the power of the ResNet architecture I will create two different model architectures for which I can compare the results\n",
    "\n",
    "### Shallow MLP\n",
    "This first model is a MLP with 5 layers, using almost all of the avaliable 10.000 paramters."
   ]
  },
  {
   "cell_type": "code",
   "execution_count": 20,
   "metadata": {
    "scrolled": false
   },
   "outputs": [
    {
     "name": "stdout",
     "output_type": "stream",
     "text": [
      "_________________________________________________________________\n",
      "Layer (type)                 Output Shape              Param #   \n",
      "=================================================================\n",
      "dense_55 (Dense)             (None, 12)                9420      \n",
      "_________________________________________________________________\n",
      "dense_56 (Dense)             (None, 12)                156       \n",
      "_________________________________________________________________\n",
      "dense_57 (Dense)             (None, 12)                156       \n",
      "_________________________________________________________________\n",
      "dense_58 (Dense)             (None, 11)                143       \n",
      "_________________________________________________________________\n",
      "dense_59 (Dense)             (None, 10)                120       \n",
      "=================================================================\n",
      "Total params: 9,995\n",
      "Trainable params: 9,995\n",
      "Non-trainable params: 0\n",
      "_________________________________________________________________\n",
      "5000/5000 [==============================] - 0s 18us/step\n"
     ]
    },
    {
     "data": {
      "image/png": "[encoded data removed]",
      "text/plain": [
       "<Figure size 432x288 with 1 Axes>"
      ]
     },
     "metadata": {
      "needs_background": "light"
     },
     "output_type": "display_data"
    },
    {
     "data": {
      "image/png": "[encoded data removed]",
      "text/plain": [
       "<Figure size 432x288 with 1 Axes>"
      ]
     },
     "metadata": {
      "needs_background": "light"
     },
     "output_type": "display_data"
    }
   ],
   "source": [
    "dims = [12,12,12,11]\n",
    "shallow_model = create_mlp(dims)\n",
    "shallow_history = train_mlp(shallow_model, X_train, Y_train)\n",
    "\n",
    "history_plot(shallow_history, X_val, Y_val)"
   ]
  },
  {
   "cell_type": "markdown",
   "metadata": {},
   "source": [
    "### Deep MLP\n",
    "Since the purpose of ResNet is to enable efficient learning of deep models I see it appropriate to create a \"very\" deep MLP. Here a 13 layer model is created and tested."
   ]
  },
  {
   "cell_type": "code",
   "execution_count": 38,
   "metadata": {
    "scrolled": false
   },
   "outputs": [
    {
     "name": "stdout",
     "output_type": "stream",
     "text": [
      "_________________________________________________________________\n",
      "Layer (type)                 Output Shape              Param #   \n",
      "=================================================================\n",
      "dense_268 (Dense)            (None, 11)                8635      \n",
      "_________________________________________________________________\n",
      "dense_269 (Dense)            (None, 11)                132       \n",
      "_________________________________________________________________\n",
      "dense_270 (Dense)            (None, 11)                132       \n",
      "_________________________________________________________________\n",
      "dense_271 (Dense)            (None, 10)                120       \n",
      "_________________________________________________________________\n",
      "dense_272 (Dense)            (None, 10)                110       \n",
      "_________________________________________________________________\n",
      "dense_273 (Dense)            (None, 10)                110       \n",
      "_________________________________________________________________\n",
      "dense_274 (Dense)            (None, 10)                110       \n",
      "_________________________________________________________________\n",
      "dense_275 (Dense)            (None, 10)                110       \n",
      "_________________________________________________________________\n",
      "dense_276 (Dense)            (None, 10)                110       \n",
      "_________________________________________________________________\n",
      "dense_277 (Dense)            (None, 10)                110       \n",
      "_________________________________________________________________\n",
      "dense_278 (Dense)            (None, 10)                110       \n",
      "_________________________________________________________________\n",
      "dense_279 (Dense)            (None, 10)                110       \n",
      "=================================================================\n",
      "Total params: 9,899\n",
      "Trainable params: 9,899\n",
      "Non-trainable params: 0\n",
      "_________________________________________________________________\n",
      "5000/5000 [==============================] - 0s 37us/step\n"
     ]
    },
    {
     "data": {
      "image/png": "[encoded data removed]",
      "text/plain": [
       "<Figure size 432x288 with 1 Axes>"
      ]
     },
     "metadata": {
      "needs_background": "light"
     },
     "output_type": "display_data"
    },
    {
     "data": {
      "image/png": "[encoded data removed]",
      "text/plain": [
       "<Figure size 432x288 with 1 Axes>"
      ]
     },
     "metadata": {
      "needs_background": "light"
     },
     "output_type": "display_data"
    }
   ],
   "source": [
    "dims = [11]*3+[10]*8\n",
    "deep_model = create_mlp(dims)\n",
    "#deep_model.layers[5].use_bias = False DOES NOT WORK....\n",
    "deep_history = train_mlp(deep_model, X_train, Y_train)\n",
    "history_plot(deep_history, X_val, Y_val)"
   ]
  },
  {
   "cell_type": "markdown",
   "metadata": {},
   "source": [
    "What we find is that this network performs worse that the shallower one described above. This might be to the initial reduction to 11 dimensions, or because of its depth. \n",
    "\n",
    "### Suuper deep MLP\n",
    "\n",
    "To use the parameters more effectivly, we can try to first have a non-trainable layer to reduce the input dimension. "
   ]
  },
  {
   "cell_type": "code",
   "execution_count": 37,
   "metadata": {
    "scrolled": false
   },
   "outputs": [
    {
     "name": "stdout",
     "output_type": "stream",
     "text": [
      "_________________________________________________________________\n",
      "Layer (type)                 Output Shape              Param #   \n",
      "=================================================================\n",
      "dense_244 (Dense)            (None, 392)               307720    \n",
      "_________________________________________________________________\n",
      "dense_245 (Dense)            (None, 16)                6288      \n",
      "_________________________________________________________________\n",
      "dense_246 (Dense)            (None, 16)                272       \n",
      "_________________________________________________________________\n",
      "dense_247 (Dense)            (None, 16)                272       \n",
      "_________________________________________________________________\n",
      "dense_248 (Dense)            (None, 16)                272       \n",
      "_________________________________________________________________\n",
      "dense_249 (Dense)            (None, 16)                272       \n",
      "_________________________________________________________________\n",
      "dense_250 (Dense)            (None, 16)                272       \n",
      "_________________________________________________________________\n",
      "dense_251 (Dense)            (None, 12)                204       \n",
      "_________________________________________________________________\n",
      "dense_252 (Dense)            (None, 12)                156       \n",
      "_________________________________________________________________\n",
      "dense_253 (Dense)            (None, 12)                156       \n",
      "_________________________________________________________________\n",
      "dense_254 (Dense)            (None, 12)                156       \n",
      "_________________________________________________________________\n",
      "dense_255 (Dense)            (None, 12)                156       \n",
      "_________________________________________________________________\n",
      "dense_256 (Dense)            (None, 12)                156       \n",
      "_________________________________________________________________\n",
      "dense_257 (Dense)            (None, 12)                156       \n",
      "_________________________________________________________________\n",
      "dense_258 (Dense)            (None, 12)                156       \n",
      "_________________________________________________________________\n",
      "dense_259 (Dense)            (None, 12)                156       \n",
      "_________________________________________________________________\n",
      "dense_260 (Dense)            (None, 10)                130       \n",
      "_________________________________________________________________\n",
      "dense_261 (Dense)            (None, 10)                110       \n",
      "_________________________________________________________________\n",
      "dense_262 (Dense)            (None, 10)                110       \n",
      "_________________________________________________________________\n",
      "dense_263 (Dense)            (None, 10)                110       \n",
      "_________________________________________________________________\n",
      "dense_264 (Dense)            (None, 10)                110       \n",
      "_________________________________________________________________\n",
      "dense_265 (Dense)            (None, 10)                110       \n",
      "_________________________________________________________________\n",
      "dense_266 (Dense)            (None, 10)                110       \n",
      "_________________________________________________________________\n",
      "dense_267 (Dense)            (None, 10)                110       \n",
      "=================================================================\n",
      "Total params: 317,720\n",
      "Trainable params: 10,000\n",
      "Non-trainable params: 307,720\n",
      "_________________________________________________________________\n",
      "5000/5000 [==============================] - 0s 71us/step\n"
     ]
    },
    {
     "data": {
      "image/png": "[encoded data removed]",
      "text/plain": [
       "<Figure size 432x288 with 1 Axes>"
      ]
     },
     "metadata": {
      "needs_background": "light"
     },
     "output_type": "display_data"
    },
    {
     "data": {
      "image/png": "[encoded data removed]",
      "text/plain": [
       "<Figure size 432x288 with 1 Axes>"
      ]
     },
     "metadata": {
      "needs_background": "light"
     },
     "output_type": "display_data"
    }
   ],
   "source": [
    "dims = [392] + [16]*6 + [12]*9 + [10]*7\n",
    "super_deep_model = create_mlp(dims)\n",
    "super_deep_model.layers[0].trainable = False\n",
    "super_deep_history = train_mlp(super_deep_model, X_train, Y_train)\n",
    "history_plot(super_deep_history, X_val, Y_val)"
   ]
  },
  {
   "cell_type": "markdown",
   "metadata": {},
   "source": [
    "# ResNet\n",
    "We now turn to ResNets. This network focuses on learning the residuals in each step through letting the input to a layer bypass the activation. The number of layers that is bypassed can vary, as long as the dimension of input and output for this stack of layers are equivalent. "
   ]
  },
  {
   "cell_type": "code",
   "execution_count": 39,
   "metadata": {
    "scrolled": false
   },
   "outputs": [],
   "source": [
    "def custom_dense_resnet(output_dim, x, activation='relu',trainable=True, reg=l2, reg_param=0.01):\n",
    "    '''Creates a keras dense layer for use in my ResNet architecture'''\n",
    "    return Dense(output_dim,\n",
    "                  activation=activation,\n",
    "                  kernel_initializer=RandomNormal(mean=0.0, stddev=0.05, seed=1337),\n",
    "                  bias_initializer='zeros', kernel_regularizer=reg(reg_param),\n",
    "                 trainable = trainable\n",
    "                 )(x)\n",
    "#end def\n",
    "\n",
    "def resnet_block(dim, x, skip = 2):\n",
    "    x = custom_dense_resnet(dim, x)\n",
    "    shortcut = x\n",
    "    for i in range(skip):\n",
    "        x = custom_dense_resnet(dim, x)\n",
    "    x = keras_add([shortcut, x])\n",
    "    x = Activation('relu')(x)\n",
    "    return x\n",
    "#end def\n",
    "\n",
    "def build_deep_resnet():\n",
    "    inp = Input(shape=(784,))\n",
    "    x = resnet_block(11, inp)\n",
    "    \n",
    "    x = resnet_block(10, x)\n",
    "    x = resnet_block(10, x)\n",
    "    x = resnet_block(10, x)\n",
    "    \n",
    "    x = custom_dense_resnet(10, x, activation='softmax')\n",
    "\n",
    "    model = Model(input=[inp], output=x)\n",
    "    model.compile(loss='categorical_crossentropy', optimizer='adam', metrics=['acc'])\n",
    "    model.summary()\n",
    "    return model\n",
    "#end def\n",
    "\n",
    "def build_super_deep_resnet():\n",
    "    inp = Input(shape=(784,))\n",
    "    x = custom_dense_resnet(392, inp, trainable = False)\n",
    "    \n",
    "    x = resnet_block(16, x)\n",
    "    x = resnet_block(16, x)\n",
    "    \n",
    "    #x = custom_dense_resnet(12, x)\n",
    "    x = resnet_block(12, x)\n",
    "    x = resnet_block(12, x)\n",
    "    x = resnet_block(12, x)\n",
    "    \n",
    "    x = custom_dense_resnet(10, x)\n",
    "    x = resnet_block(10, x)\n",
    "    x = resnet_block(10, x)\n",
    "    \n",
    "    x = custom_dense_resnet(10, x, activation='softmax')\n",
    "\n",
    "    model = Model(input=[inp], output=x)\n",
    "    model.compile(loss='categorical_crossentropy', optimizer='adam', metrics=['acc'])\n",
    "    model.summary()\n",
    "    return model\n",
    "#end def"
   ]
  },
  {
   "cell_type": "code",
   "execution_count": 40,
   "metadata": {
    "scrolled": true
   },
   "outputs": [
    {
     "name": "stdout",
     "output_type": "stream",
     "text": [
      "__________________________________________________________________________________________________\n",
      "Layer (type)                    Output Shape         Param #     Connected to                     \n",
      "==================================================================================================\n",
      "input_1 (InputLayer)            (None, 784)          0                                            \n",
      "__________________________________________________________________________________________________\n",
      "dense_280 (Dense)               (None, 392)          307720      input_1[0][0]                    \n",
      "__________________________________________________________________________________________________\n",
      "dense_281 (Dense)               (None, 16)           6288        dense_280[0][0]                  \n",
      "__________________________________________________________________________________________________\n",
      "dense_282 (Dense)               (None, 16)           272         dense_281[0][0]                  \n",
      "__________________________________________________________________________________________________\n",
      "dense_283 (Dense)               (None, 16)           272         dense_282[0][0]                  \n",
      "__________________________________________________________________________________________________\n",
      "add_1 (Add)                     (None, 16)           0           dense_281[0][0]                  \n",
      "                                                                 dense_283[0][0]                  \n",
      "__________________________________________________________________________________________________\n",
      "activation_1 (Activation)       (None, 16)           0           add_1[0][0]                      \n",
      "__________________________________________________________________________________________________\n",
      "dense_284 (Dense)               (None, 16)           272         activation_1[0][0]               \n",
      "__________________________________________________________________________________________________\n",
      "dense_285 (Dense)               (None, 16)           272         dense_284[0][0]                  \n",
      "__________________________________________________________________________________________________\n",
      "dense_286 (Dense)               (None, 16)           272         dense_285[0][0]                  \n",
      "__________________________________________________________________________________________________\n",
      "add_2 (Add)                     (None, 16)           0           dense_284[0][0]                  \n",
      "                                                                 dense_286[0][0]                  \n",
      "__________________________________________________________________________________________________\n",
      "activation_2 (Activation)       (None, 16)           0           add_2[0][0]                      \n",
      "__________________________________________________________________________________________________\n",
      "dense_287 (Dense)               (None, 12)           204         activation_2[0][0]               \n",
      "__________________________________________________________________________________________________\n",
      "dense_288 (Dense)               (None, 12)           156         dense_287[0][0]                  \n",
      "__________________________________________________________________________________________________\n",
      "dense_289 (Dense)               (None, 12)           156         dense_288[0][0]                  \n",
      "__________________________________________________________________________________________________\n",
      "add_3 (Add)                     (None, 12)           0           dense_287[0][0]                  \n",
      "                                                                 dense_289[0][0]                  \n",
      "__________________________________________________________________________________________________\n",
      "activation_3 (Activation)       (None, 12)           0           add_3[0][0]                      \n",
      "__________________________________________________________________________________________________\n",
      "dense_290 (Dense)               (None, 12)           156         activation_3[0][0]               \n",
      "__________________________________________________________________________________________________\n",
      "dense_291 (Dense)               (None, 12)           156         dense_290[0][0]                  \n",
      "__________________________________________________________________________________________________\n",
      "dense_292 (Dense)               (None, 12)           156         dense_291[0][0]                  \n",
      "__________________________________________________________________________________________________\n",
      "add_4 (Add)                     (None, 12)           0           dense_290[0][0]                  \n",
      "                                                                 dense_292[0][0]                  \n",
      "__________________________________________________________________________________________________\n",
      "activation_4 (Activation)       (None, 12)           0           add_4[0][0]                      \n",
      "__________________________________________________________________________________________________\n",
      "dense_293 (Dense)               (None, 12)           156         activation_4[0][0]               \n",
      "__________________________________________________________________________________________________\n",
      "dense_294 (Dense)               (None, 12)           156         dense_293[0][0]                  \n",
      "__________________________________________________________________________________________________\n",
      "dense_295 (Dense)               (None, 12)           156         dense_294[0][0]                  \n",
      "__________________________________________________________________________________________________\n",
      "add_5 (Add)                     (None, 12)           0           dense_293[0][0]                  \n",
      "                                                                 dense_295[0][0]                  \n",
      "__________________________________________________________________________________________________\n",
      "activation_5 (Activation)       (None, 12)           0           add_5[0][0]                      \n",
      "__________________________________________________________________________________________________\n",
      "dense_296 (Dense)               (None, 10)           130         activation_5[0][0]               \n",
      "__________________________________________________________________________________________________\n",
      "dense_297 (Dense)               (None, 10)           110         dense_296[0][0]                  \n",
      "__________________________________________________________________________________________________\n",
      "dense_298 (Dense)               (None, 10)           110         dense_297[0][0]                  \n",
      "__________________________________________________________________________________________________\n",
      "dense_299 (Dense)               (None, 10)           110         dense_298[0][0]                  \n",
      "__________________________________________________________________________________________________\n",
      "add_6 (Add)                     (None, 10)           0           dense_297[0][0]                  \n",
      "                                                                 dense_299[0][0]                  \n",
      "__________________________________________________________________________________________________\n",
      "activation_6 (Activation)       (None, 10)           0           add_6[0][0]                      \n",
      "__________________________________________________________________________________________________\n",
      "dense_300 (Dense)               (None, 10)           110         activation_6[0][0]               \n",
      "__________________________________________________________________________________________________\n",
      "dense_301 (Dense)               (None, 10)           110         dense_300[0][0]                  \n",
      "__________________________________________________________________________________________________\n",
      "dense_302 (Dense)               (None, 10)           110         dense_301[0][0]                  \n",
      "__________________________________________________________________________________________________\n",
      "add_7 (Add)                     (None, 10)           0           dense_300[0][0]                  \n",
      "                                                                 dense_302[0][0]                  \n",
      "__________________________________________________________________________________________________\n",
      "activation_7 (Activation)       (None, 10)           0           add_7[0][0]                      \n",
      "__________________________________________________________________________________________________\n",
      "dense_303 (Dense)               (None, 10)           110         activation_7[0][0]               \n",
      "==================================================================================================\n",
      "Total params: 317,720\n",
      "Trainable params: 10,000\n",
      "Non-trainable params: 307,720\n",
      "__________________________________________________________________________________________________\n"
     ]
    },
    {
     "name": "stderr",
     "output_type": "stream",
     "text": [
      "/Users/Viktor/git/envs/fml-env/lib/python3.6/site-packages/ipykernel_launcher.py:55: UserWarning: Update your `Model` call to the Keras 2 API: `Model(inputs=[<tf.Tenso..., outputs=Tensor(\"de...)`\n"
     ]
    },
    {
     "ename": "NameError",
     "evalue": "name 'epochs' is not defined",
     "output_type": "error",
     "traceback": [
      "\u001b[0;31m---------------------------------------------------------------------------\u001b[0m",
      "\u001b[0;31mNameError\u001b[0m                                 Traceback (most recent call last)",
      "\u001b[0;32m<ipython-input-40-3f2f4ae00239>\u001b[0m in \u001b[0;36m<module>\u001b[0;34m\u001b[0m\n\u001b[1;32m      1\u001b[0m \u001b[0mmodel\u001b[0m \u001b[0;34m=\u001b[0m \u001b[0mbuild_super_deep_resnet\u001b[0m\u001b[0;34m(\u001b[0m\u001b[0;34m)\u001b[0m\u001b[0;34m\u001b[0m\u001b[0m\n\u001b[0;32m----> 2\u001b[0;31m \u001b[0mhistory\u001b[0m \u001b[0;34m=\u001b[0m \u001b[0mmodel\u001b[0m\u001b[0;34m.\u001b[0m\u001b[0mfit\u001b[0m\u001b[0;34m(\u001b[0m\u001b[0mX_train\u001b[0m\u001b[0;34m,\u001b[0m \u001b[0mY_train\u001b[0m\u001b[0;34m,\u001b[0m \u001b[0mepochs\u001b[0m\u001b[0;34m=\u001b[0m\u001b[0mepochs\u001b[0m\u001b[0;34m,\u001b[0m \u001b[0mcallbacks\u001b[0m\u001b[0;34m=\u001b[0m\u001b[0;34m[\u001b[0m\u001b[0mES\u001b[0m\u001b[0;34m]\u001b[0m\u001b[0;34m,\u001b[0m \u001b[0mbatch_size\u001b[0m\u001b[0;34m=\u001b[0m\u001b[0;36m1000\u001b[0m\u001b[0;34m,\u001b[0m \u001b[0mvalidation_data\u001b[0m\u001b[0;34m=\u001b[0m\u001b[0;34m(\u001b[0m\u001b[0mX_val\u001b[0m\u001b[0;34m,\u001b[0m \u001b[0mY_val\u001b[0m\u001b[0;34m)\u001b[0m\u001b[0;34m,\u001b[0m \u001b[0mverbose\u001b[0m\u001b[0;34m=\u001b[0m\u001b[0mverbose\u001b[0m\u001b[0;34m)\u001b[0m\u001b[0;34m\u001b[0m\u001b[0m\n\u001b[0m\u001b[1;32m      3\u001b[0m \u001b[0mhistory_plot\u001b[0m\u001b[0;34m(\u001b[0m\u001b[0mhistory\u001b[0m\u001b[0;34m,\u001b[0m \u001b[0mX_val\u001b[0m\u001b[0;34m,\u001b[0m \u001b[0mY_val\u001b[0m\u001b[0;34m)\u001b[0m\u001b[0;34m\u001b[0m\u001b[0m\n",
      "\u001b[0;31mNameError\u001b[0m: name 'epochs' is not defined"
     ]
    }
   ],
   "source": [
    "super_deep_resnetmodel = build_super_deep_resnet()\n",
    "history = model.fit(X_train, Y_train, epochs=epochs, callbacks=[ES], batch_size=1000, validation_data=(X_val, Y_val), verbose=verbose)\n",
    "history_plot(history, X_val, Y_val)"
   ]
  },
  {
   "cell_type": "code",
   "execution_count": null,
   "metadata": {
    "scrolled": true
   },
   "outputs": [],
   "source": [
    "#model = KerasClassifier(build_fn=build_deep_resnet, verbose=0)\n",
    "#param_grid = dict(epochs=[10,20])\n",
    "#grid = GridSearchCV(estimator=model, param_grid=param_grid)\n",
    "#history = grid.fit(X_train, Y_train, validation_data)"
   ]
  },
  {
   "cell_type": "code",
   "execution_count": null,
   "metadata": {
    "scrolled": false
   },
   "outputs": [],
   "source": [
    "grid_result = history\n",
    "\n",
    "print(\"Best: %f using %s\" % (grid_result.best_score_, grid_result.best_params_))\n",
    "means = grid_result.cv_results_['mean_test_score']\n",
    "stds = grid_result.cv_results_['std_test_score']\n",
    "params = grid_result.cv_results_['params']\n",
    "for mean, stdev, param in zip(means, stds, params):\n",
    "\tprint(\"%f (%f) with: %r\" % (mean, stdev, param))"
   ]
  },
  {
   "cell_type": "code",
   "execution_count": null,
   "metadata": {
    "scrolled": true
   },
   "outputs": [],
   "source": [
    "inp = Input(shape=(784,))\n",
    "x = custom_dense(12, inp)\n",
    "shortcut = x\n",
    "x = custom_dense(12, x)\n",
    "x = custom_dense(12, x)\n",
    "x = keras_add([shortcut, x])\n",
    "x = Activation('relu')(x)\n",
    "\n",
    "x = custom_dense(11, x)\n",
    "x = custom_dense(10, x, activation='softmax')\n",
    "\n",
    "model = Model(input=[inp], output=x)\n",
    "epochs = 1000\n",
    "ES = EarlyStopping(monitor='val_loss', min_delta=0, patience=10, verbose=0, mode='auto', baseline=None, restore_best_weights=True)\n",
    "model.compile(loss='categorical_crossentropy', optimizer='adam', metrics=['acc'])\n",
    "model.summary()\n",
    "history = model.fit(X_train, Y_train, epochs=epochs, callbacks=[ES], batch_size=1024, validation_data=(X_val, Y_val), verbose=verbose)\n",
    "history_plot(history, X_val, Y_val)"
   ]
  },
  {
   "cell_type": "code",
   "execution_count": null,
   "metadata": {
    "scrolled": false
   },
   "outputs": [],
   "source": [
    "inp = Input(shape=(784,))\n",
    "x = custom_dense(12, inp)\n",
    "shortcut = x\n",
    "x = custom_dense(12, x)\n",
    "x = custom_dense(12, x)\n",
    "x = keras_add([shortcut, x])\n",
    "x = Activation('relu')(x)\n",
    "\n",
    "x = custom_dense(11, x)\n",
    "x = custom_dense(10, x, activation='softmax')\n",
    "\n",
    "model = Model(input=[inp], output=x)\n",
    "epochs = 1000\n",
    "ES = EarlyStopping(monitor='val_loss', min_delta=0, patience=10, verbose=0, mode='auto', baseline=None, restore_best_weights=True)\n",
    "model.compile(loss='categorical_crossentropy', optimizer='adam', metrics=['acc'])\n",
    "model.summary()\n",
    "history = model.fit(X_train, Y_train, epochs=epochs, callbacks=[ES], batch_size=1024, validation_data=(X_val, Y_val), verbose=verbose)\n",
    "history_plot(history, X_val, Y_val)\n",
    "param_grid = dict(epochs=[10,20,30])\n",
    "grid = GridSearchCV(estimator=model, param_grid=param_grid, n_jobs=-1)\n",
    "grid_result = grid.fit(X, Y)"
   ]
  }
 ],
 "metadata": {
  "kernelspec": {
   "display_name": "Python 3",
   "language": "python",
   "name": "python3"
  },
  "language_info": {
   "codemirror_mode": {
    "name": "ipython",
    "version": 3
   },
   "file_extension": ".py",
   "mimetype": "text/x-python",
   "name": "python",
   "nbconvert_exporter": "python",
   "pygments_lexer": "ipython3",
   "version": "3.6.5"
  }
 },
 "nbformat": 4,
 "nbformat_minor": 2
}
