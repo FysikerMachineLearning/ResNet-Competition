{
 "cells": [
  {
   "cell_type": "markdown",
   "metadata": {},
   "source": [
    "\n",
    "# ResNet-Competition\n",
    "\n",
    "__Author:\n",
    "Viktor Karlsson [viktor2karlsson@gmail.com](mailto:viktor2karlsson@gmail.com)__"
   ]
  },
  {
   "cell_type": "code",
   "execution_count": 112,
   "metadata": {},
   "outputs": [],
   "source": [
    "import matplotlib.pyplot as plt\n",
    "import numpy as np\n",
    "\n",
    "from sklearn.model_selection import train_test_split\n",
    "\n",
    "from keras.models import Model\n",
    "from keras.datasets import mnist\n",
    "from keras.models import Sequential\n",
    "from keras.layers import Dense\n",
    "from keras.initializers import RandomNormal\n",
    "from keras.regularizers import l1, l2\n",
    "from keras.utils import to_categorical\n",
    "from keras.callbacks import EarlyStopping\n",
    "\n",
    "# load (downloaded if needed) the MNIST dataset\n",
    "(X_train_all, Y_train_all), (X_test, Y_test) = mnist.load_data()"
   ]
  },
  {
   "cell_type": "markdown",
   "metadata": {},
   "source": [
    "# MLP"
   ]
  },
  {
   "cell_type": "code",
   "execution_count": 117,
   "metadata": {},
   "outputs": [],
   "source": [
    "def create_mlp_layers(dims, activation='relu', seed=1337, input_dim=784, output_dim=10):\n",
    "\n",
    "    layers = list()\n",
    "    \n",
    "    layers.append(\n",
    "        Dense(dims[0], \n",
    "              input_dim=input_dim, \n",
    "              activation=activation, \n",
    "              kernel_initializer=RandomNormal(mean=0.0, stddev=0.05, seed=seed), \n",
    "              bias_initializer='zeros', \n",
    "              kernel_regularizer=reg(reg_param)\n",
    "         )\n",
    "    )\n",
    "    dims = dims[1:]\n",
    "    for i, dim in enumerate(dims):\n",
    "        layers.append(\n",
    "            Dense(dim,\n",
    "                  activation=activation, \n",
    "                  kernel_initializer=RandomNormal(mean=0.0, stddev=0.05, seed=seed+i), \n",
    "                  bias_initializer='zeros', \n",
    "                  kernel_regularizer=reg(reg_param)\n",
    "                 )\n",
    "        )\n",
    "    #end for\n",
    "    \n",
    "    layers.append(\n",
    "        Dense(output_dim, \n",
    "              activation='softmax', \n",
    "              kernel_initializer=RandomNormal(mean=0.0, stddev=0.05, seed=seed), \n",
    "              bias_initializer='zeros', \n",
    "              kernel_regularizer=reg(reg_param)\n",
    "         )\n",
    "    )\n",
    "    \n",
    "    return layers"
   ]
  },
  {
   "cell_type": "code",
   "execution_count": 114,
   "metadata": {},
   "outputs": [
    {
     "name": "stdout",
     "output_type": "stream",
     "text": [
      "Shape of X_train is: (60000, 28, 28)\n",
      "Shape of Y_train is: (60000,)\n",
      "\n",
      "Reshaping training data into vector...\n",
      "Shape of X_train is now: (60000, 784)\n",
      "\n",
      "Transforming training labels into one-hot encodings...\n",
      "Shape of Y_train is now: (60000, 10)\n",
      "\n",
      "Using 54000 for training and 6000 for validation.\n",
      "Using 10000 for testing\n"
     ]
    }
   ],
   "source": [
    "print(f'Shape of X_train is: {X_train_all.shape}')\n",
    "print(f'Shape of Y_train is: {Y_train_all.shape}\\n')\n",
    "\n",
    "print('Reshaping training data into vector...')\n",
    "X_train_all = X_train_all.reshape(X_train_all.shape[0], np.prod(X_train_all.shape[1:]))\n",
    "print(f'Shape of X_train is now: {X_train_all.shape}\\n')\n",
    "\n",
    "print('Transforming training labels into one-hot encodings...')\n",
    "Y_train_all = to_categorical(Y_train_all)\n",
    "print(f'Shape of Y_train is now: {Y_train_all.shape}\\n')\n",
    "\n",
    "X_train, X_val, Y_train, Y_val = train_test_split(X_train_all, Y_train_all, test_size=0.1)\n",
    "print(f'Using {len(X_train)} for training and {len(X_val)} for validation.')\n",
    "print(f'Using {len(X_test)} for testing')"
   ]
  },
  {
   "cell_type": "code",
   "execution_count": 135,
   "metadata": {},
   "outputs": [
    {
     "name": "stdout",
     "output_type": "stream",
     "text": [
      "_________________________________________________________________\n",
      "Layer (type)                 Output Shape              Param #   \n",
      "=================================================================\n",
      "dense_604 (Dense)            (None, 12)                9420      \n",
      "_________________________________________________________________\n",
      "dense_605 (Dense)            (None, 12)                156       \n",
      "_________________________________________________________________\n",
      "dense_606 (Dense)            (None, 12)                156       \n",
      "_________________________________________________________________\n",
      "dense_607 (Dense)            (None, 11)                143       \n",
      "_________________________________________________________________\n",
      "dense_608 (Dense)            (None, 10)                120       \n",
      "=================================================================\n",
      "Total params: 9,995\n",
      "Trainable params: 9,995\n",
      "Non-trainable params: 0\n",
      "_________________________________________________________________\n"
     ]
    },
    {
     "data": {
      "image/png": "[encoded data removed]",
      "text/plain": [
       "<Figure size 432x288 with 1 Axes>"
      ]
     },
     "metadata": {
      "needs_background": "light"
     },
     "output_type": "display_data"
    },
    {
     "data": {
      "image/png": "[encoded data removed]",
      "text/plain": [
       "<Figure size 432x288 with 1 Axes>"
      ]
     },
     "metadata": {
      "needs_background": "light"
     },
     "output_type": "display_data"
    }
   ],
   "source": [
    "%matplotlib inline\n",
    "input_dim = X_train.shape[1]\n",
    "output_dim = Y_train.shape[1]\n",
    "seed = 1337\n",
    "\n",
    "reg = l2\n",
    "reg_param = 0.01\n",
    "\n",
    "epochs = 100\n",
    "verbose = 0\n",
    "\n",
    "\n",
    "\n",
    "# --------------- \"shallow\" model ---------------\n",
    "dims = [12,12,12,11]\n",
    "shallow = create_mlp_layers(dims)\n",
    "\n",
    "\n",
    "# --------------- deep model ---------------\n",
    "dims = [11]*2+[10]*10\n",
    "deep = create_mlp_layers(dims, activation='relu')\n",
    "\n",
    "model = Sequential(shallow)\n",
    "\n",
    "ES = EarlyStopping(monitor='val_loss', min_delta=0, patience=5, verbose=0, mode='auto', baseline=None, restore_best_weights=True)\n",
    "model.compile(loss='categorical_crossentropy', optimizer='adam', metrics=['acc'])\n",
    "model.summary()\n",
    "history = model.fit(X_train, Y_train, epochs=epochs, callbacks=[ES], batch_size=1000, validation_data=(X_val, Y_val), verbose=verbose)\n",
    "\n",
    "\n",
    "\n",
    "# summarize history for accuracy\n",
    "plt.plot(history.history['acc'])\n",
    "plt.plot(history.history[f'val_acc'])\n",
    "plt.title('model accuracy')\n",
    "plt.ylabel('accuracy')\n",
    "plt.xlabel('epoch')\n",
    "plt.legend(['train', 'test'], loc='upper left')\n",
    "plt.show()\n",
    "# summarize history for loss\n",
    "plt.plot(history.history['loss'])\n",
    "plt.plot(history.history['val_loss'])\n",
    "plt.title('model loss')\n",
    "plt.ylabel('loss')\n",
    "plt.xlabel('epoch')\n",
    "plt.legend(['train', 'test'], loc='upper left')\n",
    "plt.show()"
   ]
  },
  {
   "cell_type": "markdown",
   "metadata": {},
   "source": [
    "# ResNet\n",
    "This network focuses on learning the residuals in each step through letting the input to a layer bypass the activation the identity tranfrom "
   ]
  },
  {
   "cell_type": "code",
   "execution_count": null,
   "metadata": {},
   "outputs": [],
   "source": []
  }
 ],
 "metadata": {
  "kernelspec": {
   "display_name": "Python 3",
   "language": "python",
   "name": "python3"
  },
  "language_info": {
   "codemirror_mode": {
    "name": "ipython",
    "version": 3
   },
   "file_extension": ".py",
   "mimetype": "text/x-python",
   "name": "python",
   "nbconvert_exporter": "python",
   "pygments_lexer": "ipython3",
   "version": "3.6.5"
  }
 },
 "nbformat": 4,
 "nbformat_minor": 2
}
