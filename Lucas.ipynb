{
 "cells": [
  {
   "cell_type": "markdown",
   "metadata": {},
   "source": [
    "# ResNet-Competition\n",
    "\n",
    "__Author:<br>\n",
    "Lucas Grönlund [Lucasgronlund@gmail.com](mailto:Lucasgronlund@gmail.com)__"
   ]
  },
  {
   "cell_type": "code",
   "execution_count": 1,
   "metadata": {},
   "outputs": [
    {
     "name": "stderr",
     "output_type": "stream",
     "text": [
      "Using TensorFlow backend.\n"
     ]
    }
   ],
   "source": [
    "from keras.datasets import mnist\n",
    "import matplotlib.pyplot as plt\n",
    "import numpy as np\n",
    "\n",
    "# load (downloaded if needed) the MNIST dataset\n",
    "(X_train, y_train), (X_test, y_test) = mnist.load_data()"
   ]
  },
  {
   "cell_type": "code",
   "execution_count": 2,
   "metadata": {},
   "outputs": [],
   "source": [
    "from keras.models import Model\n",
    "from keras.callbacks import EarlyStopping\n",
    "ES = EarlyStopping(monitor='val_loss', min_delta=0, patience=5, verbose=0, mode='auto', baseline=None, restore_best_weights=True)"
   ]
  },
  {
   "cell_type": "code",
   "execution_count": 3,
   "metadata": {},
   "outputs": [],
   "source": [
    "## Imports\n",
    "\n",
    "from keras.utils import to_categorical\n",
    "from keras.layers import Input, Dense, Flatten, BatchNormalization, Activation, Dropout\n",
    "from keras.layers.advanced_activations import LeakyReLU\n",
    "from keras.regularizers import l2\n",
    "from keras.models import Model\n",
    "from keras.models import Sequential\n",
    "from keras.layers.merge import add"
   ]
  },
  {
   "cell_type": "code",
   "execution_count": 4,
   "metadata": {},
   "outputs": [],
   "source": [
    "## Functions\n",
    "\n",
    "def building_Block(inputs, layerSizes, layers = 2, schema = \"paper\",\n",
    "                   residualNet = True, regParam = 0.01, dropout = False, dropoutRate = 0.01):\n",
    "    '''Creates a 'block' as described in the paper.\n",
    "    layers    : The amount of layers i a block\n",
    "    layerSizes: The size of a layer.\n",
    "    '''\n",
    "    \n",
    "    if(isinstance(layerSizes, int)):\n",
    "        # Convert to list if currently int\n",
    "        layerSizes = [layerSizes]*layers\n",
    "        \n",
    "    f = x;\n",
    "\n",
    "    for i in np.arange(layers):\n",
    "        # Build a block\n",
    "        \n",
    "        if(schema == \"paper\"):\n",
    "            f = Dense(layerSizes[i], activation='relu')(f)\n",
    "            f = BatchNormalization()(f)\n",
    "            f = Activation(activation=\"relu\")(f)\n",
    "            \n",
    "        if(schema == \"mlp\"):\n",
    "            f = Dense(layerSizes[i], activation=\"relu\")(f)\n",
    "            \n",
    "        else:\n",
    "            if(i == 0):\n",
    "                f = Dense(layerSizes[i], activation=\"relu\",\n",
    "                          kernel_regularizer=l2(regParam), use_bias = False)(f)\n",
    "                if(dropout): f = Dropout(dropoutRate)(f)\n",
    "\n",
    "            else:\n",
    "                f = Dense(layerSizes[i], activation=\"relu\",\n",
    "                          kernel_regularizer=l2(regParam))(f)\n",
    "                if(dropout): f = Dropout(dropoutRate)(f)\n",
    "\n",
    "    \n",
    "    # Add if resNet structure\n",
    "    if(residualNet): f = add([f,x]); \n",
    "        \n",
    "    return f;"
   ]
  },
  {
   "cell_type": "code",
   "execution_count": 5,
   "metadata": {},
   "outputs": [],
   "source": [
    "## Pre-processing\n",
    "\n",
    "# One-Hot\n",
    "y_train_OH = to_categorical(y_train)\n",
    "y_test_OH  = to_categorical(y_test)\n",
    "\n",
    "# normalize and center\n",
    "X_train_new = X_train/255\n",
    "X_test_new  = X_test/255\n",
    "\n",
    "X_train_new -= X_train_new.mean(axis=0)\n",
    "X_test_new -= X_test_new.mean(axis=0)"
   ]
  },
  {
   "cell_type": "code",
   "execution_count": 6,
   "metadata": {},
   "outputs": [],
   "source": [
    "## Model params\n",
    "\n",
    "numberOfBlocks = 1\n",
    "layerSize = 12\n",
    "numberOfLayers = 3\n",
    "regParam = 0\n",
    "dropout = False\n",
    "dropoutRate = 0.1"
   ]
  },
  {
   "cell_type": "code",
   "execution_count": 13,
   "metadata": {},
   "outputs": [
    {
     "name": "stdout",
     "output_type": "stream",
     "text": [
      "Train on 60000 samples, validate on 10000 samples\n",
      "Epoch 1/100\n",
      " - 2s - loss: 0.6666 - acc: 0.8151 - val_loss: 0.2667 - val_acc: 0.9212\n",
      "Epoch 2/100\n",
      " - 1s - loss: 0.2524 - acc: 0.9264 - val_loss: 0.2199 - val_acc: 0.9342\n",
      "Epoch 3/100\n",
      " - 1s - loss: 0.2144 - acc: 0.9372 - val_loss: 0.1992 - val_acc: 0.9394\n",
      "Epoch 4/100\n",
      " - 1s - loss: 0.1943 - acc: 0.9423 - val_loss: 0.1879 - val_acc: 0.9445\n",
      "Epoch 5/100\n",
      " - 1s - loss: 0.1810 - acc: 0.9459 - val_loss: 0.1798 - val_acc: 0.9454\n",
      "Epoch 6/100\n",
      " - 1s - loss: 0.1706 - acc: 0.9489 - val_loss: 0.1764 - val_acc: 0.9478\n",
      "Epoch 7/100\n",
      " - 1s - loss: 0.1628 - acc: 0.9507 - val_loss: 0.1740 - val_acc: 0.9486\n",
      "Epoch 8/100\n",
      " - 1s - loss: 0.1562 - acc: 0.9534 - val_loss: 0.1721 - val_acc: 0.9504\n",
      "Epoch 9/100\n",
      " - 1s - loss: 0.1509 - acc: 0.9547 - val_loss: 0.1694 - val_acc: 0.9506\n",
      "Epoch 10/100\n",
      " - 1s - loss: 0.1462 - acc: 0.9560 - val_loss: 0.1666 - val_acc: 0.9523\n",
      "Epoch 11/100\n",
      " - 1s - loss: 0.1411 - acc: 0.9571 - val_loss: 0.1673 - val_acc: 0.9508\n",
      "Epoch 12/100\n",
      " - 1s - loss: 0.1373 - acc: 0.9585 - val_loss: 0.1647 - val_acc: 0.9525\n",
      "Epoch 13/100\n",
      " - 1s - loss: 0.1339 - acc: 0.9589 - val_loss: 0.1654 - val_acc: 0.9522\n",
      "Epoch 14/100\n",
      " - 1s - loss: 0.1307 - acc: 0.9600 - val_loss: 0.1634 - val_acc: 0.9527\n",
      "Epoch 15/100\n",
      " - 1s - loss: 0.1277 - acc: 0.9604 - val_loss: 0.1683 - val_acc: 0.9517\n",
      "Epoch 16/100\n",
      " - 1s - loss: 0.1258 - acc: 0.9617 - val_loss: 0.1637 - val_acc: 0.9525\n",
      "Epoch 17/100\n",
      " - 1s - loss: 0.1230 - acc: 0.9623 - val_loss: 0.1653 - val_acc: 0.9519\n",
      "Epoch 18/100\n",
      " - 1s - loss: 0.1202 - acc: 0.9634 - val_loss: 0.1640 - val_acc: 0.9535\n",
      "Epoch 19/100\n",
      " - 1s - loss: 0.1187 - acc: 0.9636 - val_loss: 0.1665 - val_acc: 0.9532\n"
     ]
    }
   ],
   "source": [
    "## Building and training the model\n",
    "\n",
    "# Define input shape\n",
    "inputs = Input((28, 28))\n",
    "\n",
    "# Flatten the input to 28*28\n",
    "x = Flatten()(inputs)\n",
    "\n",
    "# Dense layer with relu activation\n",
    "x = Dense(layerSize, activation='relu', kernel_regularizer=l2(regParam))(x)\n",
    "\n",
    "if(dropout): x = Dropout(dropoutRate)(x)\n",
    "\n",
    "# Build the blocks\n",
    "for i in np.arange(numberOfBlocks):\n",
    "    x = building_Block(inputs=x, layerSizes = layerSize,\n",
    "                       schema=\"other\", layers=numberOfLayers,\n",
    "                       regParam=regParam, dropout=dropout, dropoutRate=dropoutRate)\n",
    "\n",
    "# Output layer with sigmoid activation\n",
    "x = Dense(units=10, activation='sigmoid', kernel_regularizer=l2(regParam), use_bias=False)(x)\n",
    "\n",
    "# Create model\n",
    "model = Model(inputs, x)\n",
    "\n",
    "# Compilte and fit model\n",
    "model.compile(loss='categorical_crossentropy', optimizer='adam', metrics = ['accuracy'])\n",
    "info = model.fit(X_train_new, y_train_OH,\n",
    "                 validation_data=(X_test_new, y_test_OH),\n",
    "                 callbacks=[ES], epochs=100, batch_size=100, verbose=2)"
   ]
  },
  {
   "cell_type": "code",
   "execution_count": 17,
   "metadata": {},
   "outputs": [
    {
     "name": "stdout",
     "output_type": "stream",
     "text": [
      "\n",
      "\n",
      "Number of trainable parameters: 9996\n",
      "\n",
      "__________________________________________________________________________________________________\n",
      "Layer (type)                    Output Shape         Param #     Connected to                     \n",
      "==================================================================================================\n",
      "input_7 (InputLayer)            (None, 28, 28)       0                                            \n",
      "__________________________________________________________________________________________________\n",
      "flatten_7 (Flatten)             (None, 784)          0           input_7[0][0]                    \n",
      "__________________________________________________________________________________________________\n",
      "dense_31 (Dense)                (None, 12)           9420        flatten_7[0][0]                  \n",
      "__________________________________________________________________________________________________\n",
      "dense_32 (Dense)                (None, 12)           144         dense_31[0][0]                   \n",
      "__________________________________________________________________________________________________\n",
      "dense_33 (Dense)                (None, 12)           156         dense_32[0][0]                   \n",
      "__________________________________________________________________________________________________\n",
      "dense_34 (Dense)                (None, 12)           156         dense_33[0][0]                   \n",
      "__________________________________________________________________________________________________\n",
      "add_7 (Add)                     (None, 12)           0           dense_34[0][0]                   \n",
      "                                                                 dense_31[0][0]                   \n",
      "__________________________________________________________________________________________________\n",
      "dense_35 (Dense)                (None, 10)           120         add_7[0][0]                      \n",
      "==================================================================================================\n",
      "Total params: 9,996\n",
      "Trainable params: 9,996\n",
      "Non-trainable params: 0\n",
      "__________________________________________________________________________________________________\n"
     ]
    },
    {
     "data": {
      "image/png": "[encoded data removed]",
      "text/plain": [
       "<Figure size 432x288 with 1 Axes>"
      ]
     },
     "metadata": {
      "needs_background": "light"
     },
     "output_type": "display_data"
    }
   ],
   "source": [
    "## Summary and plots\n",
    "\n",
    "print(\"\\n\\nNumber of trainable parameters: \" + repr(model.count_params()))\n",
    "print(\"\")\n",
    "model.summary()\n",
    "\n",
    "plt.plot(info.epoch, info.history['val_loss'], label=\"val\")\n",
    "plt.xlabel('epoch'), plt.ylabel('loss')\n",
    "plt.plot(info.epoch, info.history['loss'], label=\"train\")\n",
    "plt.xlabel('epoch'), plt.ylabel('loss'), plt.title('Loss'), plt.legend()\n",
    "plt.show()"
   ]
  }
 ],
 "metadata": {
  "kernelspec": {
   "display_name": "Python 3",
   "language": "python",
   "name": "python3"
  },
  "language_info": {
   "codemirror_mode": {
    "name": "ipython",
    "version": 3
   },
   "file_extension": ".py",
   "mimetype": "text/x-python",
   "name": "python",
   "nbconvert_exporter": "python",
   "pygments_lexer": "ipython3",
   "version": "3.6.7"
  }
 },
 "nbformat": 4,
 "nbformat_minor": 2
}
