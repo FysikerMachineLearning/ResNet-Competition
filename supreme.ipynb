{
 "cells": [
  {
   "cell_type": "markdown",
   "metadata": {},
   "source": [
    "# ResNet-Competition\n",
    "\n",
    "__Author: Supreme Leader<br>\n",
    "Email: [erik.rosvall@gmail.com](mailto:erik.rosvall@gmail.com)__"
   ]
  },
  {
   "cell_type": "code",
   "execution_count": 23,
   "metadata": {
    "ExecuteTime": {
     "end_time": "2018-11-28T10:26:05.423709Z",
     "start_time": "2018-11-28T10:26:04.990165Z"
    }
   },
   "outputs": [],
   "source": [
    "from keras.datasets import mnist\n",
    "from keras import layers,models,preprocessing,utils\n",
    "from keras.models import Model\n",
    "import matplotlib.pyplot as plt\n",
    "import numpy as np\n",
    "# load (downloaded if needed) the MNIST dataset\n",
    "(X_train, y_train), (X_test, y_test) = mnist.load_data()\n",
    "X_train = np.reshape(X_train,(-1,784))\n",
    "X_test = np.reshape(X_test,(-1,784))\n",
    "y_train = utils.to_categorical(y_train)\n",
    "y_test = utils.to_categorical(y_test)"
   ]
  },
  {
   "cell_type": "code",
   "execution_count": 24,
   "metadata": {
    "ExecuteTime": {
     "end_time": "2018-11-28T10:26:05.451547Z",
     "start_time": "2018-11-28T10:26:05.447188Z"
    }
   },
   "outputs": [],
   "source": [
    "from keras.callbacks import EarlyStopping\n",
    "ES = EarlyStopping(monitor='val_loss', min_delta=0, patience=50, verbose=0, mode='auto', baseline=None, restore_best_weights=True)"
   ]
  },
  {
   "cell_type": "code",
   "execution_count": 37,
   "metadata": {
    "ExecuteTime": {
     "end_time": "2018-11-28T10:38:03.664569Z",
     "start_time": "2018-11-28T10:38:03.375401Z"
    }
   },
   "outputs": [],
   "source": [
    "input_layer = layers.Input(shape=(784,))\n",
    "# Create a block\n",
    "bi = layers.Dense(10,activation='relu')(input_layer)\n",
    "br = layers.Dense(10,activation='relu')(bi)\n",
    "br2 = layers.Dense(10,activation='relu')(br)\n",
    "ba = layers.Add()([bi,br2])\n",
    "bc = layers.Activation(activation='relu')(ba)\n",
    "# End of block 1\n",
    "# Create a block\n",
    "bi = layers.Dense(10,activation='relu')(bc)\n",
    "br = layers.Dense(10,activation='relu')(bi)\n",
    "br2 = layers.Dense(10,activation='relu')(br)\n",
    "ba = layers.Add()([bi,br2])\n",
    "bc = layers.Activation(activation='relu')(ba)\n",
    "# Create a block\n",
    "bi = layers.Dense(10,activation='relu')(bc)\n",
    "br = layers.Dense(10,activation='relu')(bi)\n",
    "br2 = layers.Dense(10,activation='relu')(br)\n",
    "ba = layers.Add()([bi,br2])\n",
    "bc = layers.Activation(activation='relu')(ba)\n",
    "\n",
    "# Create a block\n",
    "bi = layers.Dense(10,activation='relu')(bc)\n",
    "br = layers.Dense(10,activation='relu')(bi)\n",
    "br2 = layers.Dense(10,activation='relu')(br)\n",
    "ba = layers.Add()([bi,br2])\n",
    "bc = layers.Activation(activation='relu')(ba)\n",
    "# Create a block\n",
    "bi = layers.Dense(10,activation='relu')(bc)\n",
    "br = layers.Dense(10,activation='relu')(bi)\n",
    "br2 = layers.Dense(10,activation='relu')(br)\n",
    "ba = layers.Add()([bi,br2])\n",
    "bc = layers.Activation(activation='relu')(ba)\n",
    "\n",
    "# Create a block\n",
    "bi = layers.Dense(10,activation='relu')(bc)\n",
    "br = layers.Dense(10,activation='relu')(bi)\n",
    "b_last = layers.Dense(10,activation='relu')(br)\n",
    "# Create a block\n",
    "output = layers.Dense(10,activation='softmax')(b_last)\n"
   ]
  },
  {
   "cell_type": "code",
   "execution_count": 38,
   "metadata": {
    "ExecuteTime": {
     "end_time": "2018-11-28T10:38:03.752204Z",
     "start_time": "2018-11-28T10:38:03.685307Z"
    }
   },
   "outputs": [
    {
     "data": {
      "text/plain": [
       "9830"
      ]
     },
     "execution_count": 38,
     "metadata": {},
     "output_type": "execute_result"
    }
   ],
   "source": [
    "model = Model(inputs=input_layer,outputs = output)\n",
    "model.compile(loss='categorical_crossentropy', optimizer='adam', metrics = ['accuracy'])\n",
    "model.count_params()"
   ]
  },
  {
   "cell_type": "code",
   "execution_count": 39,
   "metadata": {
    "ExecuteTime": {
     "end_time": "2018-11-28T10:40:51.858511Z",
     "start_time": "2018-11-28T10:38:03.874325Z"
    },
    "scrolled": false
   },
   "outputs": [
    {
     "name": "stdout",
     "output_type": "stream",
     "text": [
      "Train on 48000 samples, validate on 12000 samples\n",
      "Epoch 1/500\n",
      "48000/48000 [==============================] - 6s 135us/step - loss: 2.3835 - acc: 0.1551 - val_loss: 2.0921 - val_acc: 0.2043\n",
      "Epoch 2/500\n",
      "48000/48000 [==============================] - 1s 22us/step - loss: 1.8833 - acc: 0.2495 - val_loss: 1.6609 - val_acc: 0.3484\n",
      "Epoch 3/500\n",
      "48000/48000 [==============================] - 1s 22us/step - loss: 1.4872 - acc: 0.4181 - val_loss: 1.3026 - val_acc: 0.5046\n",
      "Epoch 4/500\n",
      "48000/48000 [==============================] - 1s 24us/step - loss: 1.1960 - acc: 0.5427 - val_loss: 1.1200 - val_acc: 0.5625\n",
      "Epoch 5/500\n",
      "48000/48000 [==============================] - 1s 25us/step - loss: 1.0771 - acc: 0.5853 - val_loss: 1.0324 - val_acc: 0.5909\n",
      "Epoch 6/500\n",
      "48000/48000 [==============================] - 1s 27us/step - loss: 1.0098 - acc: 0.6086 - val_loss: 0.9884 - val_acc: 0.6287\n",
      "Epoch 7/500\n",
      "48000/48000 [==============================] - 2s 34us/step - loss: 0.9746 - acc: 0.6242 - val_loss: 0.9667 - val_acc: 0.6378\n",
      "Epoch 8/500\n",
      "48000/48000 [==============================] - 2s 35us/step - loss: 0.9433 - acc: 0.6390 - val_loss: 0.9352 - val_acc: 0.6473\n",
      "Epoch 9/500\n",
      "48000/48000 [==============================] - 1s 27us/step - loss: 0.9220 - acc: 0.6481 - val_loss: 0.9135 - val_acc: 0.6465\n",
      "Epoch 10/500\n",
      "48000/48000 [==============================] - 1s 29us/step - loss: 0.9055 - acc: 0.6555 - val_loss: 0.9088 - val_acc: 0.6565\n",
      "Epoch 11/500\n",
      "35000/48000 [====================>.........] - ETA: 0s - loss: 0.8951 - acc: 0.659"
     ]
    },
    {
     "data": {
      "text/html": [
       "<b>limit_output extension: Maximum message size of 40000 exceeded with 40138 characters</b>"
      ]
     },
     "metadata": {},
     "output_type": "display_data"
    }
   ],
   "source": [
    "trainingHistory = model.fit(X_train,y_train,epochs=500,validation_split=0.20,callbacks=[ES],batch_size=500,shuffle=True)"
   ]
  },
  {
   "cell_type": "code",
   "execution_count": 40,
   "metadata": {
    "ExecuteTime": {
     "end_time": "2018-11-28T10:40:52.737455Z",
     "start_time": "2018-11-28T10:40:51.870615Z"
    }
   },
   "outputs": [
    {
     "name": "stdout",
     "output_type": "stream",
     "text": [
      "10000/10000 [==============================] - 1s 70us/step\n",
      "Nr of epochs:135 with final acc 0.9197\n"
     ]
    },
    {
     "data": {
      "image/png": "[encoded data removed]",
      "text/plain": [
       "<Figure size 432x288 with 1 Axes>"
      ]
     },
     "metadata": {
      "needs_background": "light"
     },
     "output_type": "display_data"
    }
   ],
   "source": [
    "_,acc = model.evaluate(X_test, y_test)\n",
    "print('Nr of epochs:' + str(trainingHistory.epoch[-1]) +' with final acc ' + str(acc))\n",
    "plt.plot([1-x for x in trainingHistory.history['acc']])\n",
    "plt.plot([1-x for x in trainingHistory.history['val_acc']])\n",
    "plt.title('History report')\n",
    "plt.xlabel('Epochs')\n",
    "plt.ylabel('Error')\n",
    "plt.show()"
   ]
  },
  {
   "cell_type": "code",
   "execution_count": 41,
   "metadata": {
    "ExecuteTime": {
     "end_time": "2018-11-28T10:40:52.861209Z",
     "start_time": "2018-11-28T10:40:52.751155Z"
    }
   },
   "outputs": [],
   "source": [
    "utils.plot_model(model, to_file='model.png')"
   ]
  },
  {
   "cell_type": "markdown",
   "metadata": {},
   "source": [
    "<img src=\"model.png\">"
   ]
  },
  {
   "cell_type": "code",
   "execution_count": null,
   "metadata": {},
   "outputs": [],
   "source": []
  }
 ],
 "metadata": {
  "kernelspec": {
   "display_name": "Python 3",
   "language": "python",
   "name": "python3"
  },
  "language_info": {
   "codemirror_mode": {
    "name": "ipython",
    "version": 3
   },
   "file_extension": ".py",
   "mimetype": "text/x-python",
   "name": "python",
   "nbconvert_exporter": "python",
   "pygments_lexer": "ipython3",
   "version": "3.6.7"
  },
  "varInspector": {
   "cols": {
    "lenName": 16,
    "lenType": 16,
    "lenVar": 40
   },
   "kernels_config": {
    "python": {
     "delete_cmd_postfix": "",
     "delete_cmd_prefix": "del ",
     "library": "var_list.py",
     "varRefreshCmd": "print(var_dic_list())"
    },
    "r": {
     "delete_cmd_postfix": ") ",
     "delete_cmd_prefix": "rm(",
     "library": "var_list.r",
     "varRefreshCmd": "cat(var_dic_list()) "
    }
   },
   "position": {
    "height": "429px",
    "left": "1057px",
    "right": "20px",
    "top": "120px",
    "width": "358px"
   },
   "types_to_exclude": [
    "module",
    "function",
    "builtin_function_or_method",
    "instance",
    "_Feature"
   ],
   "window_display": false
  }
 },
 "nbformat": 4,
 "nbformat_minor": 2
}
